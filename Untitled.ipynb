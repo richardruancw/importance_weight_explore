{
 "cells": [
  {
   "cell_type": "code",
   "execution_count": 1,
   "metadata": {},
   "outputs": [
    {
     "name": "stderr",
     "output_type": "stream",
     "text": [
      "/Users/d0x00ar/anaconda3/lib/python3.6/site-packages/h5py/__init__.py:36: FutureWarning: Conversion of the second argument of issubdtype from `float` to `np.floating` is deprecated. In future, it will be treated as `np.float64 == np.dtype(float).type`.\n",
      "  from ._conv import register_converters as _register_converters\n"
     ]
    }
   ],
   "source": [
    "%load_ext autoreload\n",
    "%autoreload 2\n",
    "import numpy as np\n",
    "import random \n",
    "import tensorflow as tf\n",
    "from matplotlib import pylab as plt\n",
    "import matplotlib as mpl\n",
    "from tensorflow import keras\n",
    "\n",
    "# In[210]:\n",
    "\n",
    "\n",
    "mpl.rcParams['figure.dpi']= 150"
   ]
  },
  {
   "cell_type": "code",
   "execution_count": 4,
   "metadata": {},
   "outputs": [],
   "source": [
    "random.seed(1234)\n",
    "np.random.seed(2345)\n",
    "tf.random.set_seed(3456)"
   ]
  },
  {
   "cell_type": "code",
   "execution_count": 20,
   "metadata": {},
   "outputs": [],
   "source": [
    "from weight import simulation, learn, utils, config\n",
    "\n",
    "\n",
    "X, y = simulation.lin_sep()"
   ]
  },
  {
   "cell_type": "code",
   "execution_count": null,
   "metadata": {},
   "outputs": [],
   "source": []
  },
  {
   "cell_type": "code",
   "execution_count": 21,
   "metadata": {},
   "outputs": [],
   "source": [
    "def weighted_loss(y_true, y_pred):\n",
    "    y_hat = y_pred[:,0]\n",
    "    weights = y_pred[:,1]\n",
    "    loss = tf.exp(-tf.multiply(y_true, y_hat))\n",
    "    weighted_loss = tf.multiply(weights, loss)\n",
    "    \n",
    "    return tf.reduce_mean(weighted_loss)"
   ]
  },
  {
   "cell_type": "code",
   "execution_count": 28,
   "metadata": {},
   "outputs": [],
   "source": [
    "def loss_fn(model, x, y, training):\n",
    "    y_pred = model(x, training = training)\n",
    "    return weighted_loss(y, y_pred)\n",
    "\n",
    "def grad(model, x, y):\n",
    "    with tf.GradientTape() as tape:\n",
    "        loss_val = loss_fn(model, x, y, training = True)\n",
    "    return loss_val, tape.gradient(loss_val, model.trainable_variables)"
   ]
  },
  {
   "cell_type": "code",
   "execution_count": 29,
   "metadata": {},
   "outputs": [],
   "source": [
    "class linear_config:\n",
    "    lr = 1\n",
    "    num_epochs = 1000\n",
    "    "
   ]
  },
  {
   "cell_type": "code",
   "execution_count": null,
   "metadata": {},
   "outputs": [],
   "source": []
  },
  {
   "cell_type": "code",
   "execution_count": 40,
   "metadata": {},
   "outputs": [
    {
     "name": "stdout",
     "output_type": "stream",
     "text": [
      "epoch:0, accuracy:0.9697265625\n",
      "epoch:9, accuracy:0.96875\n",
      "epoch:49, accuracy:0.9677734375\n",
      "epoch:99, accuracy:0.96875\n",
      "epoch:199, accuracy:0.9677734375\n",
      "epoch:299, accuracy:0.966796875\n",
      "epoch:399, accuracy:0.9658203125\n",
      "epoch:499, accuracy:0.96484375\n",
      "epoch:999, accuracy:0.9619140625\n"
     ]
    }
   ],
   "source": [
    "tf.keras.backend.clear_session()\n",
    "\n",
    "inputs = keras.Input(shape=2)\n",
    "reg1 = keras.layers.Dense(units=1)\n",
    "reg2 = keras.layers.Dense(units=1)\n",
    "output1 = reg1(inputs)\n",
    "output2 = reg2(inputs)\n",
    "output2 = tf.exp(output2) / (1 + tf.exp(output2)) + 1\n",
    "model = keras.Model(inputs=inputs, outputs=tf.concat([output1, output2], axis=-1))\n",
    "\n",
    "optimizer = tf.keras.optimizers.SGD(learning_rate = 2)\n",
    "milestones = [1, 10, 50, 100, 200, 300, 400, 500, 1000]\n",
    "\n",
    "learnt_weights_list = []\n",
    "accuracy_list = []\n",
    "\n",
    "for epoch in range(linear_config.num_epochs):\n",
    "    epoch_accuracy = tf.keras.metrics.Accuracy()\n",
    "    \n",
    "#     loss_value, grads = grad(model, X, y)\n",
    "#     optimizer.apply_gradients(zip(grads, model.trainable_variables))\n",
    "    with tf.GradientTape() as tape:\n",
    "        res = model(X)\n",
    "        loss_val = weighted_loss(y, res)\n",
    "    \n",
    "    grads = tape.gradient(loss_val, model.trainable_weights)\n",
    "    optimizer.apply_gradients(zip(grads, model.trainable_weights))\n",
    "    \n",
    "    if epoch+1 in milestones:\n",
    "        res = model(X)\n",
    "        learnt_weights_list.append(res[:,1])\n",
    "        epoch_accuracy.update_state(y, res[:,0] > 0)\n",
    "        accuracy_list.append(epoch_accuracy.result())\n",
    "        print(\"epoch:{}, accuracy:{}\".format(epoch, epoch_accuracy.result()))\n",
    "    "
   ]
  },
  {
   "cell_type": "code",
   "execution_count": 36,
   "metadata": {},
   "outputs": [
    {
     "data": {
      "text/plain": [
       "0.974609375"
      ]
     },
     "execution_count": 36,
     "metadata": {},
     "output_type": "execute_result"
    }
   ],
   "source": [
    "np.sum((res[:,0].numpy() > 0) == y) / len(y)"
   ]
  },
  {
   "cell_type": "code",
   "execution_count": null,
   "metadata": {},
   "outputs": [],
   "source": []
  },
  {
   "cell_type": "code",
   "execution_count": 31,
   "metadata": {},
   "outputs": [],
   "source": [
    "tf.keras.backend.clear_session()\n",
    "\n",
    "inputs = keras.Input(shape=2)\n",
    "\n",
    "reg1 = keras.layers.Dense(units=1)\n",
    "reg2 = keras.layers.Dense(units=1)\n",
    "\n",
    "output1 = reg1(inputs)\n",
    "output2 = reg2(inputs)\n",
    "output2 = tf.exp(output2) / (1 + tf.exp(output2)) + 1\n",
    "\n",
    "model = keras.Model(inputs=inputs, outputs=tf.concat([output1, output2], axis=-1))"
   ]
  },
  {
   "cell_type": "code",
   "execution_count": 41,
   "metadata": {},
   "outputs": [],
   "source": [
    "\n",
    "model.compile(loss = weighted_loss,\n",
    "             optimizer = keras.optimizers.SGD(1),\n",
    "             metrics=[\"accuracy\"])\n",
    "\n",
    "model.fit(X, y, batch_size = X.shape[0], epochs = 200, verbose=2)"
   ]
  },
  {
   "cell_type": "code",
   "execution_count": 88,
   "metadata": {},
   "outputs": [],
   "source": [
    "results = model(X)\n",
    "weights = results[:,1]"
   ]
  },
  {
   "cell_type": "code",
   "execution_count": 89,
   "metadata": {},
   "outputs": [
    {
     "data": {
      "image/png": "[encoded data removed]",
      "text/plain": [
       "<Figure size 432x288 with 1 Axes>"
      ]
     },
     "metadata": {},
     "output_type": "display_data"
    }
   ],
   "source": [
    "from matplotlib import pylab as plt\n",
    "\n",
    "_ = plt.hist(weights, bins=100, range=(0.5, 1.5))\n"
   ]
  },
  {
   "cell_type": "code",
   "execution_count": 104,
   "metadata": {},
   "outputs": [],
   "source": [
    "tf.keras.backend.clear_session()\n",
    "\n",
    "inputs = keras.Input(shape=2)\n",
    "\n",
    "reg1 = keras.layers.Dense(units=5, activation = 'relu')\n",
    "reg11 = keras.layers.Dense(units=1)\n",
    "reg2 = keras.layers.Dense(units=1)\n",
    "\n",
    "output1 = reg11(reg1(inputs))\n",
    "output2 = reg2(inputs)\n",
    "output2 = tf.exp(output2) / (1 + tf.exp(output2)) + 1\n",
    "\n",
    "model = keras.Model(inputs=inputs, outputs=tf.concat([output1, output2], axis=-1))"
   ]
  },
  {
   "cell_type": "code",
   "execution_count": 105,
   "metadata": {},
   "outputs": [
    {
     "data": {
      "text/plain": [
       "<tensorflow.python.keras.callbacks.History at 0x7f903a260c50>"
      ]
     },
     "execution_count": 105,
     "metadata": {},
     "output_type": "execute_result"
    }
   ],
   "source": [
    "model.compile(loss = weighted_loss,\n",
    "             optimizer = keras.optimizers.SGD(1),\n",
    "             metrics=[\"accuracy\"])\n",
    "\n",
    "model.fit(X, y, batch_size = X.shape[0], epochs = 500, verbose=0)"
   ]
  },
  {
   "cell_type": "code",
   "execution_count": 106,
   "metadata": {},
   "outputs": [],
   "source": [
    "results = model(X)\n",
    "weights = results[:,1]"
   ]
  },
  {
   "cell_type": "code",
   "execution_count": 107,
   "metadata": {},
   "outputs": [
    {
     "data": {
      "image/png": "[encoded data removed]",
      "text/plain": [
       "<Figure size 432x288 with 1 Axes>"
      ]
     },
     "metadata": {},
     "output_type": "display_data"
    }
   ],
   "source": [
    "from matplotlib import pylab as plt\n",
    "\n",
    "_ = plt.hist(weights, bins=100, range=(0.5, 1.5))\n"
   ]
  },
  {
   "cell_type": "code",
   "execution_count": 130,
   "metadata": {},
   "outputs": [],
   "source": [
    "X, y = simulation.non_lin_moon(0.05)\n",
    "X = np.array(X)\n",
    "y = np.array(y) * 1.0"
   ]
  },
  {
   "cell_type": "code",
   "execution_count": 131,
   "metadata": {},
   "outputs": [],
   "source": [
    "def weighted_loss(y_true, y_pred):\n",
    "    y_hat = y_pred[:,0]\n",
    "    weights = y_pred[:,1]\n",
    "    loss = tf.exp(-tf.multiply(y_true, y_hat))\n",
    "    weighted_loss = tf.multiply(weights, loss)\n",
    "    \n",
    "    return tf.reduce_mean(weighted_loss)"
   ]
  },
  {
   "cell_type": "code",
   "execution_count": 140,
   "metadata": {},
   "outputs": [],
   "source": [
    "tf.keras.backend.clear_session()\n",
    "\n",
    "inputs = keras.Input(shape=2)\n",
    "\n",
    "reg1 = keras.layers.Dense(units=5, activation = 'relu')\n",
    "reg11 = keras.layers.Dense(units=1)\n",
    "reg2 = keras.layers.Dense(units=1)\n",
    "\n",
    "output1 = reg11(reg1(inputs))\n",
    "output2 = reg2(inputs)\n",
    "output2 = tf.exp(output2) / (1 + tf.exp(output2)) + 1\n",
    "\n",
    "model = keras.Model(inputs=inputs, outputs=tf.concat([output1, output2], axis=-1))"
   ]
  },
  {
   "cell_type": "code",
   "execution_count": null,
   "metadata": {},
   "outputs": [
    {
     "name": "stderr",
     "output_type": "stream",
     "text": [
      "Exception ignored in: <bound method IteratorResourceDeleter.__del__ of <tensorflow.python.data.ops.iterator_ops.IteratorResourceDeleter object at 0x7f903ad84198>>\n",
      "Traceback (most recent call last):\n",
      "  File \"/Users/d0x00ar/anaconda3/lib/python3.6/site-packages/tensorflow_core/python/data/ops/iterator_ops.py\", line 541, in __del__\n",
      "    handle=self._handle, deleter=self._deleter)\n",
      "  File \"/Users/d0x00ar/anaconda3/lib/python3.6/site-packages/tensorflow_core/python/ops/gen_dataset_ops.py\", line 1157, in delete_iterator\n",
      "    \"DeleteIterator\", handle=handle, deleter=deleter, name=name)\n",
      "  File \"/Users/d0x00ar/anaconda3/lib/python3.6/site-packages/tensorflow_core/python/framework/op_def_library.py\", line 793, in _apply_op_helper\n",
      "    op_def=op_def)\n",
      "  File \"/Users/d0x00ar/anaconda3/lib/python3.6/site-packages/tensorflow_core/python/framework/func_graph.py\", line 544, in create_op\n",
      "    inp = self.capture(inp)\n",
      "  File \"/Users/d0x00ar/anaconda3/lib/python3.6/site-packages/tensorflow_core/python/framework/func_graph.py\", line 605, in capture\n",
      "    return self._capture_helper(tensor, name)\n",
      "  File \"/Users/d0x00ar/anaconda3/lib/python3.6/site-packages/tensorflow_core/python/framework/func_graph.py\", line 612, in _capture_helper\n",
      "    tensor, name=name, dtype=tensor.dtype)\n",
      "  File \"/Users/d0x00ar/anaconda3/lib/python3.6/site-packages/tensorflow_core/python/framework/func_graph.py\", line 1054, in _create_substitute_placeholder\n",
      "    dtype=dtype or value.dtype, shape=value.shape, name=name)\n",
      "  File \"/Users/d0x00ar/anaconda3/lib/python3.6/site-packages/tensorflow_core/python/eager/graph_only_ops.py\", line 51, in graph_placeholder\n",
      "    attrs={\"dtype\": dtype_value, \"shape\": shape}, name=name)\n",
      "  File \"/Users/d0x00ar/anaconda3/lib/python3.6/site-packages/tensorflow_core/python/framework/func_graph.py\", line 548, in create_op\n",
      "    compute_device)\n",
      "  File \"/Users/d0x00ar/anaconda3/lib/python3.6/site-packages/tensorflow_core/python/framework/ops.py\", line 3420, in _create_op_internal\n",
      "    with self._mutation_lock():\n",
      "  File \"/Users/d0x00ar/anaconda3/lib/python3.6/site-packages/tensorflow_core/python/util/lock_util.py\", line 124, in __enter__\n",
      "    self._lock.acquire(self._group_id)\n",
      "  File \"/Users/d0x00ar/anaconda3/lib/python3.6/site-packages/tensorflow_core/python/util/lock_util.py\", line 90, in acquire\n",
      "    self._ready.acquire()\n",
      "KeyboardInterrupt: \n"
     ]
    }
   ],
   "source": [
    "model.compile(loss = weighted_loss,\n",
    "             optimizer = keras.optimizers.SGD(0.1),\n",
    "             metrics=[\"accuracy\"])\n",
    "\n",
    "model.fit(X, y, batch_size = X.shape[0], epochs = 1000, verbose=0)"
   ]
  },
  {
   "cell_type": "code",
   "execution_count": null,
   "metadata": {},
   "outputs": [],
   "source": [
    "results = model(X)\n",
    "weights = results[:,1]\n",
    "\n",
    "from matplotlib import pylab as plt\n",
    "\n",
    "_ = plt.hist(weights, bins=100, range=(0.5, 1.5))"
   ]
  },
  {
   "cell_type": "code",
   "execution_count": null,
   "metadata": {},
   "outputs": [],
   "source": []
  },
  {
   "cell_type": "code",
   "execution_count": null,
   "metadata": {},
   "outputs": [],
   "source": []
  }
 ],
 "metadata": {
  "kernelspec": {
   "display_name": "Python 3",
   "language": "python",
   "name": "python3"
  },
  "language_info": {
   "codemirror_mode": {
    "name": "ipython",
    "version": 3
   },
   "file_extension": ".py",
   "mimetype": "text/x-python",
   "name": "python",
   "nbconvert_exporter": "python",
   "pygments_lexer": "ipython3",
   "version": "3.6.8"
  }
 },
 "nbformat": 4,
 "nbformat_minor": 2
}
